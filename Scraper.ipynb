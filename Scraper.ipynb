{
 "cells": [
  {
   "cell_type": "markdown",
   "metadata": {
    "id": "5Yi5w2oLHzNm"
   },
   "source": [
    "**Unstructured Data Analytics: Group Assignment #2**\n",
    "\n",
    "# Group Members:\n",
    "1. Rithu Anand Krishnan\n",
    "2. Manvi Mahajan\n",
    "3. Paul Wen (Yilin Wen)\n",
    "4. Alex Yu\n",
    "5. Judy Chen (Yu-Ting Chen)"
   ]
  },
  {
   "cell_type": "code",
   "execution_count": 1,
   "metadata": {
    "executionInfo": {
     "elapsed": 176,
     "status": "ok",
     "timestamp": 1665360240648,
     "user": {
      "displayName": "YuTing Chen",
      "userId": "01694062351778334267"
     },
     "user_tz": 300
    },
    "id": "z1NDz1TjrXFv"
   },
   "outputs": [
    {
     "name": "stdout",
     "output_type": "stream",
     "text": [
      "Collecting snscrape\n",
      "  Downloading snscrape-0.4.3.20220106-py3-none-any.whl (59 kB)\n",
      "     ---------------------------------------- 59.1/59.1 kB ? eta 0:00:00\n",
      "Requirement already satisfied: requests[socks] in c:\\users\\alex\\appdata\\local\\programs\\python\\python310\\lib\\site-packages (from snscrape) (2.28.1)\n",
      "Collecting filelock\n",
      "  Downloading filelock-3.8.0-py3-none-any.whl (10 kB)\n",
      "Requirement already satisfied: lxml in c:\\users\\alex\\appdata\\local\\programs\\python\\python310\\lib\\site-packages (from snscrape) (4.9.1)\n",
      "Requirement already satisfied: beautifulsoup4 in c:\\users\\alex\\appdata\\local\\programs\\python\\python310\\lib\\site-packages (from snscrape) (4.11.1)\n",
      "Requirement already satisfied: soupsieve>1.2 in c:\\users\\alex\\appdata\\local\\programs\\python\\python310\\lib\\site-packages (from beautifulsoup4->snscrape) (2.3.2.post1)\n",
      "Requirement already satisfied: charset-normalizer<3,>=2 in c:\\users\\alex\\appdata\\local\\programs\\python\\python310\\lib\\site-packages (from requests[socks]->snscrape) (2.1.1)\n",
      "Requirement already satisfied: certifi>=2017.4.17 in c:\\users\\alex\\appdata\\local\\programs\\python\\python310\\lib\\site-packages (from requests[socks]->snscrape) (2022.6.15)\n",
      "Requirement already satisfied: urllib3<1.27,>=1.21.1 in c:\\users\\alex\\appdata\\local\\programs\\python\\python310\\lib\\site-packages (from requests[socks]->snscrape) (1.26.12)\n",
      "Requirement already satisfied: idna<4,>=2.5 in c:\\users\\alex\\appdata\\local\\programs\\python\\python310\\lib\\site-packages (from requests[socks]->snscrape) (3.3)\n",
      "Collecting PySocks!=1.5.7,>=1.5.6\n",
      "  Downloading PySocks-1.7.1-py3-none-any.whl (16 kB)\n",
      "Installing collected packages: PySocks, filelock, snscrape\n",
      "Successfully installed PySocks-1.7.1 filelock-3.8.0 snscrape-0.4.3.20220106\n"
     ]
    }
   ],
   "source": [
    "## Imports\n",
    "!pip install snscrape\n",
    "import snscrape.modules.twitter as sntwitter\n",
    "import pandas as pd"
   ]
  },
  {
   "cell_type": "code",
   "execution_count": 17,
   "metadata": {},
   "outputs": [],
   "source": [
    "#Creating an empty list to append tweet data to\n",
    "usr_twt_list = []\n",
    "\n",
    "#Using TwitterSearchScraper to scrape data and append tweets to list\n",
    "for i,tweet in enumerate(sntwitter.TwitterSearchScraper('#PASen','#PAGov').get_items()): #declare a username \n",
    "    if i>6000: #number of tweets you want to scrape\n",
    "        break\n",
    "    usr_twt_list.append([tweet.user.username, tweet.user.location, tweet.content]) #declare the attributes to be returned\n",
    "    i+=1\n",
    "\n",
    "#Creating a dataframe from the tweets list above \n",
    "df = pd.DataFrame(usr_twt_list, columns=['username', 'location', 'text'])\n",
    "filename = 'tweetsv3.csv'\n",
    "df.to_csv(filename)"
   ]
  },
  {
   "cell_type": "code",
   "execution_count": 18,
   "metadata": {},
   "outputs": [
    {
     "data": {
      "text/plain": [
       "(6001, 3)"
      ]
     },
     "execution_count": 18,
     "metadata": {},
     "output_type": "execute_result"
    }
   ],
   "source": [
    "df.shape"
   ]
  }
 ],
 "metadata": {
  "colab": {
   "collapsed_sections": [],
   "provenance": []
  },
  "kernelspec": {
   "display_name": "Python 3 (ipykernel)",
   "language": "python",
   "name": "python3"
  },
  "language_info": {
   "codemirror_mode": {
    "name": "ipython",
    "version": 3
   },
   "file_extension": ".py",
   "mimetype": "text/x-python",
   "name": "python",
   "nbconvert_exporter": "python",
   "pygments_lexer": "ipython3",
   "version": "3.10.7"
  },
  "vscode": {
   "interpreter": {
    "hash": "275c13896ba8c4530b3b5edd72df101d8643eb4aa3956a7fd1b30cb9fb9264ee"
   }
  }
 },
 "nbformat": 4,
 "nbformat_minor": 1
}
